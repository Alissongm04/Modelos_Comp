{
 "cells": [
  {
   "cell_type": "code",
   "id": "initial_id",
   "metadata": {
    "collapsed": true,
    "ExecuteTime": {
     "end_time": "2024-10-01T00:40:41.840312Z",
     "start_time": "2024-10-01T00:40:38.973256Z"
    }
   },
   "source": [
    "import pandas as pd \n",
    "import numpy as np \n",
    "import time \n",
    "\n",
    "index = pd.date_range(\"7/15/2022\", periods=20)\n",
    "index"
   ],
   "outputs": [
    {
     "data": {
      "text/plain": [
       "DatetimeIndex(['2022-07-15', '2022-07-16', '2022-07-17', '2022-07-18',\n",
       "               '2022-07-19', '2022-07-20', '2022-07-21', '2022-07-22',\n",
       "               '2022-07-23', '2022-07-24', '2022-07-25', '2022-07-26',\n",
       "               '2022-07-27', '2022-07-28', '2022-07-29', '2022-07-30',\n",
       "               '2022-07-31', '2022-08-01', '2022-08-02', '2022-08-03'],\n",
       "              dtype='datetime64[ns]', freq='D')"
      ]
     },
     "execution_count": 5,
     "metadata": {},
     "output_type": "execute_result"
    }
   ],
   "execution_count": 5
  },
  {
   "metadata": {},
   "cell_type": "markdown",
   "source": [
    "Consultas rapidas \n",
    "\n",
    "Para rellenar un df con valores aleatorios"
   ],
   "id": "6ebe15f99ec6fad5"
  },
  {
   "metadata": {
    "ExecuteTime": {
     "end_time": "2024-10-01T00:40:45.804604Z",
     "start_time": "2024-10-01T00:40:45.764070Z"
    }
   },
   "cell_type": "code",
   "source": [
    "df = pd.DataFrame(np.random.randn(20, 4), index=index, columns=[\"A\",\"B\", \"C\", \"D\"])\n",
    "df \n",
    "#Primeras filas (cabeza) \n",
    "df.head()"
   ],
   "id": "18d7565ed3c474d8",
   "outputs": [
    {
     "data": {
      "text/plain": [
       "                   A         B         C         D\n",
       "2022-07-15 -0.423522 -0.350284 -0.523646 -0.119190\n",
       "2022-07-16 -0.126194  0.916709  1.702755  1.603802\n",
       "2022-07-17 -1.034246  0.365262 -0.872098 -0.540616\n",
       "2022-07-18  0.670476  0.109408  0.960340 -1.110124\n",
       "2022-07-19 -0.635943  0.762681  0.202025  1.482327"
      ],
      "text/html": [
       "<div>\n",
       "<style scoped>\n",
       "    .dataframe tbody tr th:only-of-type {\n",
       "        vertical-align: middle;\n",
       "    }\n",
       "\n",
       "    .dataframe tbody tr th {\n",
       "        vertical-align: top;\n",
       "    }\n",
       "\n",
       "    .dataframe thead th {\n",
       "        text-align: right;\n",
       "    }\n",
       "</style>\n",
       "<table border=\"1\" class=\"dataframe\">\n",
       "  <thead>\n",
       "    <tr style=\"text-align: right;\">\n",
       "      <th></th>\n",
       "      <th>A</th>\n",
       "      <th>B</th>\n",
       "      <th>C</th>\n",
       "      <th>D</th>\n",
       "    </tr>\n",
       "  </thead>\n",
       "  <tbody>\n",
       "    <tr>\n",
       "      <th>2022-07-15</th>\n",
       "      <td>-0.423522</td>\n",
       "      <td>-0.350284</td>\n",
       "      <td>-0.523646</td>\n",
       "      <td>-0.119190</td>\n",
       "    </tr>\n",
       "    <tr>\n",
       "      <th>2022-07-16</th>\n",
       "      <td>-0.126194</td>\n",
       "      <td>0.916709</td>\n",
       "      <td>1.702755</td>\n",
       "      <td>1.603802</td>\n",
       "    </tr>\n",
       "    <tr>\n",
       "      <th>2022-07-17</th>\n",
       "      <td>-1.034246</td>\n",
       "      <td>0.365262</td>\n",
       "      <td>-0.872098</td>\n",
       "      <td>-0.540616</td>\n",
       "    </tr>\n",
       "    <tr>\n",
       "      <th>2022-07-18</th>\n",
       "      <td>0.670476</td>\n",
       "      <td>0.109408</td>\n",
       "      <td>0.960340</td>\n",
       "      <td>-1.110124</td>\n",
       "    </tr>\n",
       "    <tr>\n",
       "      <th>2022-07-19</th>\n",
       "      <td>-0.635943</td>\n",
       "      <td>0.762681</td>\n",
       "      <td>0.202025</td>\n",
       "      <td>1.482327</td>\n",
       "    </tr>\n",
       "  </tbody>\n",
       "</table>\n",
       "</div>"
      ]
     },
     "execution_count": 6,
     "metadata": {},
     "output_type": "execute_result"
    }
   ],
   "execution_count": 6
  },
  {
   "metadata": {
    "ExecuteTime": {
     "end_time": "2024-10-01T00:41:56.566004Z",
     "start_time": "2024-10-01T00:41:56.554176Z"
    }
   },
   "cell_type": "code",
   "source": [
    "#Primeras tres filas\n",
    "df.head(8)"
   ],
   "id": "bcf819aeb1d9b6e8",
   "outputs": [
    {
     "data": {
      "text/plain": [
       "                   A         B         C         D\n",
       "2022-07-15 -0.423522 -0.350284 -0.523646 -0.119190\n",
       "2022-07-16 -0.126194  0.916709  1.702755  1.603802\n",
       "2022-07-17 -1.034246  0.365262 -0.872098 -0.540616\n",
       "2022-07-18  0.670476  0.109408  0.960340 -1.110124\n",
       "2022-07-19 -0.635943  0.762681  0.202025  1.482327\n",
       "2022-07-20  1.213090  1.005048  0.213845 -0.799331\n",
       "2022-07-21 -1.809432  0.311559 -0.383399 -1.516645\n",
       "2022-07-22 -0.446585  1.270591  0.356301 -1.167498"
      ],
      "text/html": [
       "<div>\n",
       "<style scoped>\n",
       "    .dataframe tbody tr th:only-of-type {\n",
       "        vertical-align: middle;\n",
       "    }\n",
       "\n",
       "    .dataframe tbody tr th {\n",
       "        vertical-align: top;\n",
       "    }\n",
       "\n",
       "    .dataframe thead th {\n",
       "        text-align: right;\n",
       "    }\n",
       "</style>\n",
       "<table border=\"1\" class=\"dataframe\">\n",
       "  <thead>\n",
       "    <tr style=\"text-align: right;\">\n",
       "      <th></th>\n",
       "      <th>A</th>\n",
       "      <th>B</th>\n",
       "      <th>C</th>\n",
       "      <th>D</th>\n",
       "    </tr>\n",
       "  </thead>\n",
       "  <tbody>\n",
       "    <tr>\n",
       "      <th>2022-07-15</th>\n",
       "      <td>-0.423522</td>\n",
       "      <td>-0.350284</td>\n",
       "      <td>-0.523646</td>\n",
       "      <td>-0.119190</td>\n",
       "    </tr>\n",
       "    <tr>\n",
       "      <th>2022-07-16</th>\n",
       "      <td>-0.126194</td>\n",
       "      <td>0.916709</td>\n",
       "      <td>1.702755</td>\n",
       "      <td>1.603802</td>\n",
       "    </tr>\n",
       "    <tr>\n",
       "      <th>2022-07-17</th>\n",
       "      <td>-1.034246</td>\n",
       "      <td>0.365262</td>\n",
       "      <td>-0.872098</td>\n",
       "      <td>-0.540616</td>\n",
       "    </tr>\n",
       "    <tr>\n",
       "      <th>2022-07-18</th>\n",
       "      <td>0.670476</td>\n",
       "      <td>0.109408</td>\n",
       "      <td>0.960340</td>\n",
       "      <td>-1.110124</td>\n",
       "    </tr>\n",
       "    <tr>\n",
       "      <th>2022-07-19</th>\n",
       "      <td>-0.635943</td>\n",
       "      <td>0.762681</td>\n",
       "      <td>0.202025</td>\n",
       "      <td>1.482327</td>\n",
       "    </tr>\n",
       "    <tr>\n",
       "      <th>2022-07-20</th>\n",
       "      <td>1.213090</td>\n",
       "      <td>1.005048</td>\n",
       "      <td>0.213845</td>\n",
       "      <td>-0.799331</td>\n",
       "    </tr>\n",
       "    <tr>\n",
       "      <th>2022-07-21</th>\n",
       "      <td>-1.809432</td>\n",
       "      <td>0.311559</td>\n",
       "      <td>-0.383399</td>\n",
       "      <td>-1.516645</td>\n",
       "    </tr>\n",
       "    <tr>\n",
       "      <th>2022-07-22</th>\n",
       "      <td>-0.446585</td>\n",
       "      <td>1.270591</td>\n",
       "      <td>0.356301</td>\n",
       "      <td>-1.167498</td>\n",
       "    </tr>\n",
       "  </tbody>\n",
       "</table>\n",
       "</div>"
      ]
     },
     "execution_count": 8,
     "metadata": {},
     "output_type": "execute_result"
    }
   ],
   "execution_count": 8
  },
  {
   "metadata": {
    "ExecuteTime": {
     "end_time": "2024-10-01T00:42:40.673256Z",
     "start_time": "2024-10-01T00:42:40.645581Z"
    }
   },
   "cell_type": "code",
   "source": [
    "#Ultimas filas (cola) \n",
    "df.tail()"
   ],
   "id": "722d11087c4a6a8",
   "outputs": [
    {
     "data": {
      "text/plain": [
       "                   A         B         C         D\n",
       "2022-07-30  0.765712 -0.099412  0.677501 -2.292894\n",
       "2022-07-31  0.999772  0.684915 -0.343648 -0.521741\n",
       "2022-08-01 -0.170988 -0.247176  0.005557 -2.480808\n",
       "2022-08-02 -1.556926 -0.437050 -2.430677  0.601746\n",
       "2022-08-03 -0.042103 -1.969670  0.167516 -1.171053"
      ],
      "text/html": [
       "<div>\n",
       "<style scoped>\n",
       "    .dataframe tbody tr th:only-of-type {\n",
       "        vertical-align: middle;\n",
       "    }\n",
       "\n",
       "    .dataframe tbody tr th {\n",
       "        vertical-align: top;\n",
       "    }\n",
       "\n",
       "    .dataframe thead th {\n",
       "        text-align: right;\n",
       "    }\n",
       "</style>\n",
       "<table border=\"1\" class=\"dataframe\">\n",
       "  <thead>\n",
       "    <tr style=\"text-align: right;\">\n",
       "      <th></th>\n",
       "      <th>A</th>\n",
       "      <th>B</th>\n",
       "      <th>C</th>\n",
       "      <th>D</th>\n",
       "    </tr>\n",
       "  </thead>\n",
       "  <tbody>\n",
       "    <tr>\n",
       "      <th>2022-07-30</th>\n",
       "      <td>0.765712</td>\n",
       "      <td>-0.099412</td>\n",
       "      <td>0.677501</td>\n",
       "      <td>-2.292894</td>\n",
       "    </tr>\n",
       "    <tr>\n",
       "      <th>2022-07-31</th>\n",
       "      <td>0.999772</td>\n",
       "      <td>0.684915</td>\n",
       "      <td>-0.343648</td>\n",
       "      <td>-0.521741</td>\n",
       "    </tr>\n",
       "    <tr>\n",
       "      <th>2022-08-01</th>\n",
       "      <td>-0.170988</td>\n",
       "      <td>-0.247176</td>\n",
       "      <td>0.005557</td>\n",
       "      <td>-2.480808</td>\n",
       "    </tr>\n",
       "    <tr>\n",
       "      <th>2022-08-02</th>\n",
       "      <td>-1.556926</td>\n",
       "      <td>-0.437050</td>\n",
       "      <td>-2.430677</td>\n",
       "      <td>0.601746</td>\n",
       "    </tr>\n",
       "    <tr>\n",
       "      <th>2022-08-03</th>\n",
       "      <td>-0.042103</td>\n",
       "      <td>-1.969670</td>\n",
       "      <td>0.167516</td>\n",
       "      <td>-1.171053</td>\n",
       "    </tr>\n",
       "  </tbody>\n",
       "</table>\n",
       "</div>"
      ]
     },
     "execution_count": 9,
     "metadata": {},
     "output_type": "execute_result"
    }
   ],
   "execution_count": 9
  },
  {
   "metadata": {
    "ExecuteTime": {
     "end_time": "2024-10-01T00:43:05.560110Z",
     "start_time": "2024-10-01T00:43:05.545868Z"
    }
   },
   "cell_type": "code",
   "source": [
    "#Ultimas tres filas \n",
    "df.tail(3)"
   ],
   "id": "38d11d5220744b70",
   "outputs": [
    {
     "data": {
      "text/plain": [
       "                   A         B         C         D\n",
       "2022-08-01 -0.170988 -0.247176  0.005557 -2.480808\n",
       "2022-08-02 -1.556926 -0.437050 -2.430677  0.601746\n",
       "2022-08-03 -0.042103 -1.969670  0.167516 -1.171053"
      ],
      "text/html": [
       "<div>\n",
       "<style scoped>\n",
       "    .dataframe tbody tr th:only-of-type {\n",
       "        vertical-align: middle;\n",
       "    }\n",
       "\n",
       "    .dataframe tbody tr th {\n",
       "        vertical-align: top;\n",
       "    }\n",
       "\n",
       "    .dataframe thead th {\n",
       "        text-align: right;\n",
       "    }\n",
       "</style>\n",
       "<table border=\"1\" class=\"dataframe\">\n",
       "  <thead>\n",
       "    <tr style=\"text-align: right;\">\n",
       "      <th></th>\n",
       "      <th>A</th>\n",
       "      <th>B</th>\n",
       "      <th>C</th>\n",
       "      <th>D</th>\n",
       "    </tr>\n",
       "  </thead>\n",
       "  <tbody>\n",
       "    <tr>\n",
       "      <th>2022-08-01</th>\n",
       "      <td>-0.170988</td>\n",
       "      <td>-0.247176</td>\n",
       "      <td>0.005557</td>\n",
       "      <td>-2.480808</td>\n",
       "    </tr>\n",
       "    <tr>\n",
       "      <th>2022-08-02</th>\n",
       "      <td>-1.556926</td>\n",
       "      <td>-0.437050</td>\n",
       "      <td>-2.430677</td>\n",
       "      <td>0.601746</td>\n",
       "    </tr>\n",
       "    <tr>\n",
       "      <th>2022-08-03</th>\n",
       "      <td>-0.042103</td>\n",
       "      <td>-1.969670</td>\n",
       "      <td>0.167516</td>\n",
       "      <td>-1.171053</td>\n",
       "    </tr>\n",
       "  </tbody>\n",
       "</table>\n",
       "</div>"
      ]
     },
     "execution_count": 10,
     "metadata": {},
     "output_type": "execute_result"
    }
   ],
   "execution_count": 10
  },
  {
   "metadata": {},
   "cell_type": "code",
   "outputs": [],
   "execution_count": null,
   "source": "",
   "id": "68fbda772dd88c80"
  },
  {
   "metadata": {},
   "cell_type": "markdown",
   "source": "Valores Unicos \n",
   "id": "e76703164802aeda"
  },
  {
   "metadata": {},
   "cell_type": "code",
   "outputs": [],
   "execution_count": null,
   "source": [
    "#definimos un DataFrame con informacion de diferentes tipos \n",
    "df = pd.DataFrame({\n",
    "    'enteros': [100, 200,300,400],\n",
    "    'decimales': [3.14, 2.72, 1.618, 3.14], \n",
    "    'cadenas': ['hola', 'adios', ]\n",
    "})"
   ],
   "id": "ad641667f765ce5f"
  }
 ],
 "metadata": {
  "kernelspec": {
   "display_name": "Python 3",
   "language": "python",
   "name": "python3"
  },
  "language_info": {
   "codemirror_mode": {
    "name": "ipython",
    "version": 2
   },
   "file_extension": ".py",
   "mimetype": "text/x-python",
   "name": "python",
   "nbconvert_exporter": "python",
   "pygments_lexer": "ipython2",
   "version": "2.7.6"
  }
 },
 "nbformat": 4,
 "nbformat_minor": 5
}
