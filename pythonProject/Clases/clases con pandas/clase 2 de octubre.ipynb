{
 "cells": [
  {
   "metadata": {},
   "cell_type": "markdown",
   "source": "juntar las filas de los DataFrames \n",
   "id": "c4a3490123a7f51e"
  },
  {
   "metadata": {},
   "cell_type": "code",
   "outputs": [],
   "execution_count": null,
   "source": "",
   "id": "8921fbd1615b074"
  },
  {
   "metadata": {
    "ExecuteTime": {
     "end_time": "2024-10-02T23:13:46.646685Z",
     "start_time": "2024-10-02T23:13:46.586459Z"
    }
   },
   "cell_type": "code",
   "source": [
    "import pandas as pd \n",
    "import numpy as np \n",
    "\n",
    "df1 = pd.DataFrame({'A':['1A','2A'], 'B':['1B','2B'], 'C':['1C','2C']}) \n",
    "\n",
    "df1\n",
    "\n",
    "df2 = pd.DataFrame({'A':['3A','4A','5A'], 'B':['3B','4B','5B'], 'C':['3C','4C','5C']}) \n",
    "\n",
    "df2\n",
    "\n",
    "df3 = pd.DataFrame({'A':['6A','7A'], 'B':['6B','7B'], 'C':['6C','7C']}, index=[6, 7]) \n",
    "\n",
    "df3\n",
    "\n",
    "concated_df = pd.concat([df1, df2,df3])\n",
    "concated_df"
   ],
   "id": "d91428d7842bf5cc",
   "outputs": [
    {
     "data": {
      "text/plain": [
       "    A   B   C\n",
       "0  1A  1B  1C\n",
       "1  2A  2B  2C\n",
       "0  3A  3B  3C\n",
       "1  4A  4B  4C\n",
       "2  5A  5B  5C\n",
       "6  6A  6B  6C\n",
       "7  7A  7B  7C"
      ],
      "text/html": [
       "<div>\n",
       "<style scoped>\n",
       "    .dataframe tbody tr th:only-of-type {\n",
       "        vertical-align: middle;\n",
       "    }\n",
       "\n",
       "    .dataframe tbody tr th {\n",
       "        vertical-align: top;\n",
       "    }\n",
       "\n",
       "    .dataframe thead th {\n",
       "        text-align: right;\n",
       "    }\n",
       "</style>\n",
       "<table border=\"1\" class=\"dataframe\">\n",
       "  <thead>\n",
       "    <tr style=\"text-align: right;\">\n",
       "      <th></th>\n",
       "      <th>A</th>\n",
       "      <th>B</th>\n",
       "      <th>C</th>\n",
       "    </tr>\n",
       "  </thead>\n",
       "  <tbody>\n",
       "    <tr>\n",
       "      <th>0</th>\n",
       "      <td>1A</td>\n",
       "      <td>1B</td>\n",
       "      <td>1C</td>\n",
       "    </tr>\n",
       "    <tr>\n",
       "      <th>1</th>\n",
       "      <td>2A</td>\n",
       "      <td>2B</td>\n",
       "      <td>2C</td>\n",
       "    </tr>\n",
       "    <tr>\n",
       "      <th>0</th>\n",
       "      <td>3A</td>\n",
       "      <td>3B</td>\n",
       "      <td>3C</td>\n",
       "    </tr>\n",
       "    <tr>\n",
       "      <th>1</th>\n",
       "      <td>4A</td>\n",
       "      <td>4B</td>\n",
       "      <td>4C</td>\n",
       "    </tr>\n",
       "    <tr>\n",
       "      <th>2</th>\n",
       "      <td>5A</td>\n",
       "      <td>5B</td>\n",
       "      <td>5C</td>\n",
       "    </tr>\n",
       "    <tr>\n",
       "      <th>6</th>\n",
       "      <td>6A</td>\n",
       "      <td>6B</td>\n",
       "      <td>6C</td>\n",
       "    </tr>\n",
       "    <tr>\n",
       "      <th>7</th>\n",
       "      <td>7A</td>\n",
       "      <td>7B</td>\n",
       "      <td>7C</td>\n",
       "    </tr>\n",
       "  </tbody>\n",
       "</table>\n",
       "</div>"
      ]
     },
     "execution_count": 3,
     "metadata": {},
     "output_type": "execute_result"
    }
   ],
   "execution_count": 3
  },
  {
   "metadata": {},
   "cell_type": "markdown",
   "source": "Fusión: fusionamos los DataFrames usando la misma lógica que se usa en SQL para unir tablas, por ejemplo combinar dataframes",
   "id": "50aeb4e51871b023"
  },
  {
   "metadata": {
    "ExecuteTime": {
     "end_time": "2024-10-02T23:15:17.758732Z",
     "start_time": "2024-10-02T23:15:17.735653Z"
    }
   },
   "cell_type": "code",
   "source": [
    "df1 = pd.DataFrame({'clave': ['K1','K2','K3'], 'A': ['1A','2A','3A'], 'B': ['1B','2B','3B']}, \n",
    "                   index = ['papa', 'ganso', 'azul'])\n",
    "\n",
    "df1"
   ],
   "id": "b4b8d6aa5e1cff40",
   "outputs": [
    {
     "data": {
      "text/plain": [
       "      clave   A   B\n",
       "papa     K1  1A  1B\n",
       "ganso    K2  2A  2B\n",
       "azul     K3  3A  3B"
      ],
      "text/html": [
       "<div>\n",
       "<style scoped>\n",
       "    .dataframe tbody tr th:only-of-type {\n",
       "        vertical-align: middle;\n",
       "    }\n",
       "\n",
       "    .dataframe tbody tr th {\n",
       "        vertical-align: top;\n",
       "    }\n",
       "\n",
       "    .dataframe thead th {\n",
       "        text-align: right;\n",
       "    }\n",
       "</style>\n",
       "<table border=\"1\" class=\"dataframe\">\n",
       "  <thead>\n",
       "    <tr style=\"text-align: right;\">\n",
       "      <th></th>\n",
       "      <th>clave</th>\n",
       "      <th>A</th>\n",
       "      <th>B</th>\n",
       "    </tr>\n",
       "  </thead>\n",
       "  <tbody>\n",
       "    <tr>\n",
       "      <th>papa</th>\n",
       "      <td>K1</td>\n",
       "      <td>1A</td>\n",
       "      <td>1B</td>\n",
       "    </tr>\n",
       "    <tr>\n",
       "      <th>ganso</th>\n",
       "      <td>K2</td>\n",
       "      <td>2A</td>\n",
       "      <td>2B</td>\n",
       "    </tr>\n",
       "    <tr>\n",
       "      <th>azul</th>\n",
       "      <td>K3</td>\n",
       "      <td>3A</td>\n",
       "      <td>3B</td>\n",
       "    </tr>\n",
       "  </tbody>\n",
       "</table>\n",
       "</div>"
      ]
     },
     "execution_count": 4,
     "metadata": {},
     "output_type": "execute_result"
    }
   ],
   "execution_count": 4
  },
  {
   "metadata": {
    "ExecuteTime": {
     "end_time": "2024-10-02T23:15:57.010600Z",
     "start_time": "2024-10-02T23:15:56.973394Z"
    }
   },
   "cell_type": "code",
   "source": [
    "df2 = pd.DataFrame({'C': ['1C','2C','3C'], 'clave': ['K1','K2','K3'], 'D': ['1D','2D','3D'], \n",
    "                    'A': ['1A','2A','3A']}, \n",
    "                   index = [5, 6, 7])\n",
    "\n",
    "df2"
   ],
   "id": "f083e6dfe84d4a48",
   "outputs": [
    {
     "data": {
      "text/plain": [
       "    C clave   D   A\n",
       "5  1C    K1  1D  1A\n",
       "6  2C    K2  2D  2A\n",
       "7  3C    K3  3D  3A"
      ],
      "text/html": [
       "<div>\n",
       "<style scoped>\n",
       "    .dataframe tbody tr th:only-of-type {\n",
       "        vertical-align: middle;\n",
       "    }\n",
       "\n",
       "    .dataframe tbody tr th {\n",
       "        vertical-align: top;\n",
       "    }\n",
       "\n",
       "    .dataframe thead th {\n",
       "        text-align: right;\n",
       "    }\n",
       "</style>\n",
       "<table border=\"1\" class=\"dataframe\">\n",
       "  <thead>\n",
       "    <tr style=\"text-align: right;\">\n",
       "      <th></th>\n",
       "      <th>C</th>\n",
       "      <th>clave</th>\n",
       "      <th>D</th>\n",
       "      <th>A</th>\n",
       "    </tr>\n",
       "  </thead>\n",
       "  <tbody>\n",
       "    <tr>\n",
       "      <th>5</th>\n",
       "      <td>1C</td>\n",
       "      <td>K1</td>\n",
       "      <td>1D</td>\n",
       "      <td>1A</td>\n",
       "    </tr>\n",
       "    <tr>\n",
       "      <th>6</th>\n",
       "      <td>2C</td>\n",
       "      <td>K2</td>\n",
       "      <td>2D</td>\n",
       "      <td>2A</td>\n",
       "    </tr>\n",
       "    <tr>\n",
       "      <th>7</th>\n",
       "      <td>3C</td>\n",
       "      <td>K3</td>\n",
       "      <td>3D</td>\n",
       "      <td>3A</td>\n",
       "    </tr>\n",
       "  </tbody>\n",
       "</table>\n",
       "</div>"
      ]
     },
     "execution_count": 5,
     "metadata": {},
     "output_type": "execute_result"
    }
   ],
   "execution_count": 5
  },
  {
   "metadata": {
    "ExecuteTime": {
     "end_time": "2024-10-02T23:16:21.289431Z",
     "start_time": "2024-10-02T23:16:21.213025Z"
    }
   },
   "cell_type": "code",
   "source": [
    "# Fusionar columnas a partir de una columna común\n",
    "pd.merge(df1, df2, on=['clave', 'A'])"
   ],
   "id": "6352604933d569d6",
   "outputs": [
    {
     "data": {
      "text/plain": [
       "  clave   A   B   C   D\n",
       "0    K1  1A  1B  1C  1D\n",
       "1    K2  2A  2B  2C  2D\n",
       "2    K3  3A  3B  3C  3D"
      ],
      "text/html": [
       "<div>\n",
       "<style scoped>\n",
       "    .dataframe tbody tr th:only-of-type {\n",
       "        vertical-align: middle;\n",
       "    }\n",
       "\n",
       "    .dataframe tbody tr th {\n",
       "        vertical-align: top;\n",
       "    }\n",
       "\n",
       "    .dataframe thead th {\n",
       "        text-align: right;\n",
       "    }\n",
       "</style>\n",
       "<table border=\"1\" class=\"dataframe\">\n",
       "  <thead>\n",
       "    <tr style=\"text-align: right;\">\n",
       "      <th></th>\n",
       "      <th>clave</th>\n",
       "      <th>A</th>\n",
       "      <th>B</th>\n",
       "      <th>C</th>\n",
       "      <th>D</th>\n",
       "    </tr>\n",
       "  </thead>\n",
       "  <tbody>\n",
       "    <tr>\n",
       "      <th>0</th>\n",
       "      <td>K1</td>\n",
       "      <td>1A</td>\n",
       "      <td>1B</td>\n",
       "      <td>1C</td>\n",
       "      <td>1D</td>\n",
       "    </tr>\n",
       "    <tr>\n",
       "      <th>1</th>\n",
       "      <td>K2</td>\n",
       "      <td>2A</td>\n",
       "      <td>2B</td>\n",
       "      <td>2C</td>\n",
       "      <td>2D</td>\n",
       "    </tr>\n",
       "    <tr>\n",
       "      <th>2</th>\n",
       "      <td>K3</td>\n",
       "      <td>3A</td>\n",
       "      <td>3B</td>\n",
       "      <td>3C</td>\n",
       "      <td>3D</td>\n",
       "    </tr>\n",
       "  </tbody>\n",
       "</table>\n",
       "</div>"
      ]
     },
     "execution_count": 6,
     "metadata": {},
     "output_type": "execute_result"
    }
   ],
   "execution_count": 6
  },
  {
   "metadata": {},
   "cell_type": "markdown",
   "source": [
    "Entradas y salida\n",
    "Si tengo mi data frame ¿como lo guardo a un CSV? "
   ],
   "id": "13f33c2a5fb10e20"
  },
  {
   "metadata": {
    "ExecuteTime": {
     "end_time": "2024-10-02T23:44:41.834906Z",
     "start_time": "2024-10-02T23:44:41.536889Z"
    }
   },
   "cell_type": "code",
   "source": [
    "# Definimos un dataframe con datos de ejemplos\n",
    "df = pd.DataFrame(np.random.randn(10, 5), columns=[\"A\", \"B\", \"C\", \"D\", \"E\"])\n",
    "\n",
    "df"
   ],
   "id": "bd4f71a2e7e04a06",
   "outputs": [
    {
     "data": {
      "text/plain": [
       "          A         B         C         D         E\n",
       "0 -1.192297  0.111776  1.851500 -0.383339  1.884820\n",
       "1  0.816141 -0.543989 -0.062472  1.520755  0.281772\n",
       "2 -0.085586 -1.637671 -0.569749 -1.259493  1.108659\n",
       "3  1.784569  0.438326  1.147787 -2.211926  0.136820\n",
       "4  0.059754 -0.298261 -0.531216  0.163188 -1.247460\n",
       "5  0.316967  0.556560 -0.171384 -2.009671  0.777914\n",
       "6 -0.039860 -1.823267 -1.813122  0.411514 -1.258054\n",
       "7  1.233110 -0.195355  1.764988 -0.341476  0.651013\n",
       "8  0.095596  0.647071 -0.115272 -0.009495  1.039769\n",
       "9 -0.135253 -0.173171  0.306185  0.174802 -0.628197"
      ],
      "text/html": [
       "<div>\n",
       "<style scoped>\n",
       "    .dataframe tbody tr th:only-of-type {\n",
       "        vertical-align: middle;\n",
       "    }\n",
       "\n",
       "    .dataframe tbody tr th {\n",
       "        vertical-align: top;\n",
       "    }\n",
       "\n",
       "    .dataframe thead th {\n",
       "        text-align: right;\n",
       "    }\n",
       "</style>\n",
       "<table border=\"1\" class=\"dataframe\">\n",
       "  <thead>\n",
       "    <tr style=\"text-align: right;\">\n",
       "      <th></th>\n",
       "      <th>A</th>\n",
       "      <th>B</th>\n",
       "      <th>C</th>\n",
       "      <th>D</th>\n",
       "      <th>E</th>\n",
       "    </tr>\n",
       "  </thead>\n",
       "  <tbody>\n",
       "    <tr>\n",
       "      <th>0</th>\n",
       "      <td>-1.192297</td>\n",
       "      <td>0.111776</td>\n",
       "      <td>1.851500</td>\n",
       "      <td>-0.383339</td>\n",
       "      <td>1.884820</td>\n",
       "    </tr>\n",
       "    <tr>\n",
       "      <th>1</th>\n",
       "      <td>0.816141</td>\n",
       "      <td>-0.543989</td>\n",
       "      <td>-0.062472</td>\n",
       "      <td>1.520755</td>\n",
       "      <td>0.281772</td>\n",
       "    </tr>\n",
       "    <tr>\n",
       "      <th>2</th>\n",
       "      <td>-0.085586</td>\n",
       "      <td>-1.637671</td>\n",
       "      <td>-0.569749</td>\n",
       "      <td>-1.259493</td>\n",
       "      <td>1.108659</td>\n",
       "    </tr>\n",
       "    <tr>\n",
       "      <th>3</th>\n",
       "      <td>1.784569</td>\n",
       "      <td>0.438326</td>\n",
       "      <td>1.147787</td>\n",
       "      <td>-2.211926</td>\n",
       "      <td>0.136820</td>\n",
       "    </tr>\n",
       "    <tr>\n",
       "      <th>4</th>\n",
       "      <td>0.059754</td>\n",
       "      <td>-0.298261</td>\n",
       "      <td>-0.531216</td>\n",
       "      <td>0.163188</td>\n",
       "      <td>-1.247460</td>\n",
       "    </tr>\n",
       "    <tr>\n",
       "      <th>5</th>\n",
       "      <td>0.316967</td>\n",
       "      <td>0.556560</td>\n",
       "      <td>-0.171384</td>\n",
       "      <td>-2.009671</td>\n",
       "      <td>0.777914</td>\n",
       "    </tr>\n",
       "    <tr>\n",
       "      <th>6</th>\n",
       "      <td>-0.039860</td>\n",
       "      <td>-1.823267</td>\n",
       "      <td>-1.813122</td>\n",
       "      <td>0.411514</td>\n",
       "      <td>-1.258054</td>\n",
       "    </tr>\n",
       "    <tr>\n",
       "      <th>7</th>\n",
       "      <td>1.233110</td>\n",
       "      <td>-0.195355</td>\n",
       "      <td>1.764988</td>\n",
       "      <td>-0.341476</td>\n",
       "      <td>0.651013</td>\n",
       "    </tr>\n",
       "    <tr>\n",
       "      <th>8</th>\n",
       "      <td>0.095596</td>\n",
       "      <td>0.647071</td>\n",
       "      <td>-0.115272</td>\n",
       "      <td>-0.009495</td>\n",
       "      <td>1.039769</td>\n",
       "    </tr>\n",
       "    <tr>\n",
       "      <th>9</th>\n",
       "      <td>-0.135253</td>\n",
       "      <td>-0.173171</td>\n",
       "      <td>0.306185</td>\n",
       "      <td>0.174802</td>\n",
       "      <td>-0.628197</td>\n",
       "    </tr>\n",
       "  </tbody>\n",
       "</table>\n",
       "</div>"
      ]
     },
     "execution_count": 7,
     "metadata": {},
     "output_type": "execute_result"
    }
   ],
   "execution_count": 7
  },
  {
   "metadata": {
    "ExecuteTime": {
     "end_time": "2024-10-02T23:44:56.432994Z",
     "start_time": "2024-10-02T23:44:56.326004Z"
    }
   },
   "cell_type": "code",
   "source": "df.to_csv('datos.csv', index=False) #esto se debe de guardar como archivo de excel al correrlo",
   "id": "7ae40a7610261385",
   "outputs": [],
   "execution_count": 8
  },
  {
   "metadata": {
    "ExecuteTime": {
     "end_time": "2024-10-02T23:46:53.437783Z",
     "start_time": "2024-10-02T23:46:53.421135Z"
    }
   },
   "cell_type": "code",
   "source": [
    "# Borramos el df de la memoria\n",
    "del(df)"
   ],
   "id": "ba7531f63a80badc",
   "outputs": [],
   "execution_count": 9
  },
  {
   "metadata": {},
   "cell_type": "code",
   "outputs": [],
   "execution_count": null,
   "source": "",
   "id": "88291ac286556f51"
  }
 ],
 "metadata": {
  "kernelspec": {
   "display_name": "Python 3",
   "language": "python",
   "name": "python3"
  },
  "language_info": {
   "codemirror_mode": {
    "name": "ipython",
    "version": 2
   },
   "file_extension": ".py",
   "mimetype": "text/x-python",
   "name": "python",
   "nbconvert_exporter": "python",
   "pygments_lexer": "ipython2",
   "version": "2.7.6"
  }
 },
 "nbformat": 4,
 "nbformat_minor": 5
}
